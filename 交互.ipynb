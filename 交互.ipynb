{
 "cells": [
  {
   "cell_type": "code",
   "execution_count": 1,
   "metadata": {},
   "outputs": [
    {
     "name": "stdout",
     "output_type": "stream",
     "text": [
      "█\r"
     ]
    }
   ],
   "source": [
    "from wxpy import Bot\n",
    "from sqlalchemy import create_engine\n",
    "import pandas as pd\n",
    "\n",
    "def update_sendflag(nick_name, remark_name, value):\n",
    "    sql = f\"\"\"\n",
    "    UPDATE\n",
    "        friend_new\n",
    "    SET\n",
    "        SendFlag = {value}\n",
    "    WHERE\n",
    "        NickName = '{nick_name}'\n",
    "        AND RemarkName = '{remark_name}'\n",
    "    \"\"\"\n",
    "    conn.execute(sql)\n",
    "\n",
    "def send_msg(msg, **keys):\n",
    "    friend = bot.search(**keys)\n",
    "    if friend:\n",
    "        friend[0].send_msg(msg)\n",
    "        return 1\n",
    "    else:\n",
    "        return 0\n",
    "    \n",
    "bot = Bot(cache_path=True, console_qr=-2)"
   ]
  },
  {
   "cell_type": "code",
   "execution_count": 2,
   "metadata": {},
   "outputs": [
    {
     "name": "stdout",
     "output_type": "stream",
     "text": [
      "(810, 38)\n"
     ]
    }
   ],
   "source": [
    "# 获取微信好友信息\n",
    "friends = bot.friends()\n",
    "wx_frnd = pd.DataFrame((each.raw for each in friends))\n",
    "\n",
    "# 用sqlalchemy读取数据库\n",
    "engine = create_engine('sqlite:///weixin_friends.sqlite')\n",
    "db_frnd = pd.read_sql('friend_new', engine) # friend 是旧表，数据未更新\n",
    "\n",
    "# 合并\n",
    "df = pd.merge(wx_frnd, \n",
    "              db_frnd[['NickName', 'RemarkName', 'Alias', 'SendFlag']], \n",
    "              on=['NickName', 'RemarkName'])\n",
    "\n",
    "print(df.shape)"
   ]
  },
  {
   "cell_type": "code",
   "execution_count": 3,
   "metadata": {},
   "outputs": [
    {
     "data": {
      "text/plain": [
       "(786, 38)"
      ]
     },
     "execution_count": 3,
     "metadata": {},
     "output_type": "execute_result"
    }
   ],
   "source": [
    "filter_1 = df.Alias_y!='skip' # 不跳过\n",
    "filter_2 = df.SendFlag!=1 # 未发送\n",
    "\n",
    "df_ = df[filter_1&filter_2]\n",
    "df_.shape"
   ]
  },
  {
   "cell_type": "code",
   "execution_count": 5,
   "metadata": {},
   "outputs": [
    {
     "name": "stdout",
     "output_type": "stream",
     "text": [
      "【7】小学 李骥(天天青青)：祝原球新的一年万事顺遂，平安喜乐！                                                                      \r"
     ]
    },
    {
     "ename": "KeyboardInterrupt",
     "evalue": "",
     "output_type": "error",
     "traceback": [
      "\u001b[1;31m---------------------------------------------------------------------------\u001b[0m",
      "\u001b[1;31mKeyboardInterrupt\u001b[0m                         Traceback (most recent call last)",
      "\u001b[1;32m<ipython-input-5-f5b0775e79a8>\u001b[0m in \u001b[0;36m<module>\u001b[1;34m\u001b[0m\n\u001b[0;32m     16\u001b[0m     \u001b[0mprint\u001b[0m\u001b[1;33m(\u001b[0m\u001b[0minfo\u001b[0m\u001b[1;33m.\u001b[0m\u001b[0mljust\u001b[0m\u001b[1;33m(\u001b[0m\u001b[1;36m100\u001b[0m\u001b[1;33m)\u001b[0m\u001b[1;33m,\u001b[0m \u001b[0mend\u001b[0m\u001b[1;33m=\u001b[0m\u001b[1;34m'\\r'\u001b[0m\u001b[1;33m)\u001b[0m\u001b[1;33m\u001b[0m\u001b[1;33m\u001b[0m\u001b[0m\n\u001b[0;32m     17\u001b[0m \u001b[1;33m\u001b[0m\u001b[0m\n\u001b[1;32m---> 18\u001b[1;33m     \u001b[0msleep\u001b[0m\u001b[1;33m(\u001b[0m\u001b[1;36m2\u001b[0m\u001b[1;33m)\u001b[0m\u001b[1;33m\u001b[0m\u001b[1;33m\u001b[0m\u001b[0m\n\u001b[0m\u001b[0;32m     19\u001b[0m \u001b[1;33m\u001b[0m\u001b[0m\n\u001b[0;32m     20\u001b[0m \u001b[0mconn\u001b[0m\u001b[1;33m.\u001b[0m\u001b[0mclose\u001b[0m\u001b[1;33m(\u001b[0m\u001b[1;33m)\u001b[0m\u001b[1;33m\u001b[0m\u001b[1;33m\u001b[0m\u001b[0m\n",
      "\u001b[1;31mKeyboardInterrupt\u001b[0m: "
     ]
    }
   ],
   "source": [
    "# 开始发送啦\n",
    "from time import sleep\n",
    "\n",
    "conn = engine.connect()\n",
    "\n",
    "for idx, row in df_.iterrows():\n",
    "    Alias = row.Alias_y if row.Alias_y!='null' else '你'\n",
    "    NickName = row.NickName\n",
    "    RemarkName = row.RemarkName\n",
    "    \n",
    "    msg_text = f'祝原{Alias}新的一年万事顺遂，平安喜乐！'\n",
    "    value = send_msg(msg_text, nick_name=NickName, remark_name=RemarkName)\n",
    "    update_sendflag(NickName, RemarkName, value)\n",
    "    \n",
    "    info = f\"【{idx}】{RemarkName}({NickName})：{msg_text}\"\n",
    "    print(info.ljust(100), end='\\r')\n",
    "    \n",
    "    sleep(2)\n",
    "            \n",
    "conn.close()"
   ]
  },
  {
   "cell_type": "code",
   "execution_count": null,
   "metadata": {
    "jupyter": {
     "source_hidden": true
    }
   },
   "outputs": [],
   "source": [
    "# !!!仅必要时使用。初始化数据库数据\n",
    "\n",
    "# 拼合！！！ 这里代码要修改\n",
    "df = pd.merge(wx_frnd, db_frnd, how='left', left_on='NickName', right_on='nick_name')\n",
    "df['Alias'] = df['call_name']\n",
    "df['SendFlag'] = 0\n",
    "df = df[['UserName','NickName','RemarkName','Sex','City','Province','Signature', 'Alias', 'SendFlag']]\n",
    "\n",
    "# 选删除，再插入\n",
    "with engine.connect() as conn:\n",
    "    conn.execute('DROP TABLE friend_new')\n",
    "df.to_sql('friend_new', engine, index=False)"
   ]
  }
 ],
 "metadata": {
  "kernelspec": {
   "display_name": "goodday",
   "language": "python",
   "name": "goodday"
  },
  "language_info": {
   "codemirror_mode": {
    "name": "ipython",
    "version": 3
   },
   "file_extension": ".py",
   "mimetype": "text/x-python",
   "name": "python",
   "nbconvert_exporter": "python",
   "pygments_lexer": "ipython3",
   "version": "3.7.7"
  }
 },
 "nbformat": 4,
 "nbformat_minor": 4
}
